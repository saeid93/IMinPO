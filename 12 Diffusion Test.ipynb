{
 "cells": [
  {
   "cell_type": "code",
   "execution_count": 1,
   "metadata": {},
   "outputs": [],
   "source": [
    "import numpy as np\n",
    "import networkx as nx\n",
    "import ndlib.models.ModelConfig as mc\n",
    "import ndlib.models.epidemics.IndependentCascadesModel as ids\n",
    "import ndlib.models.epidemics.ThresholdModel as th\n",
    "from tqdm import tqdm\n",
    "import IPython.display as ipd\n",
    "\n",
    "\n",
    "def intt(x):\n",
    "    return int(float(x))\n",
    "\n",
    "def buildGraph(adjList,numOfNodes):\n",
    "    numOfEle = np.shape(adjList)[0]\n",
    "    g = nx.empty_graph(numOfNodes-1)\n",
    "    for i in range (0,numOfEle):\n",
    "        g.add_edge(adjList[i,0],adjList[i,1])\n",
    "    return (g)\n"
   ]
  },
  {
   "cell_type": "markdown",
   "metadata": {},
   "source": [
    "### read network topology"
   ]
  },
  {
   "cell_type": "code",
   "execution_count": 2,
   "metadata": {},
   "outputs": [],
   "source": [
    "# Type of IM seed\n",
    "IMmethod = \"Betweenness Centrality\"\n",
    "# set initial values\n",
    "numOfSims = 1\n",
    "numOfIters = 30\n",
    "# Network topology\n",
    "dataset = \"CA-HepTh-2\"\n",
    "numOfNodes = 9877\n",
    "\n",
    "\n",
    "# read the graphs from file\n",
    "augmentedAdj = np.genfromtxt(\"Data/\" + dataset + \"/10 IM ready Graphs with Diffusion Probabilities/Cenrality/augmented.csv\")\n",
    "originalAdj = np.genfromtxt(\"Data/\" + dataset + \"/10 IM ready Graphs with Diffusion Probabilities/Cenrality/original.csv\")\n",
    "randomAdj = np.genfromtxt(\"Data/\" + dataset + \"/10 IM ready Graphs with Diffusion Probabilities/Cenrality/random.csv\")\n",
    "\n",
    "# build the graphs\n",
    "augmentedGraph = buildGraph(augmentedAdj,numOfNodes)\n",
    "originalGraph = buildGraph(originalAdj,numOfNodes)\n",
    "randomGraph = buildGraph(randomAdj,numOfNodes)\n",
    "\n",
    "# read the seed set from the file\n",
    "augmentedSeed = np.genfromtxt(\"Data/\" + dataset + \"/11 IM stage results/\" + IMmethod + \"/augmented.csv\",dtype=int)\n",
    "originalSeed = np.genfromtxt(\"Data/\" + dataset + \"/11 IM stage results/\" + IMmethod + \"/original.csv\",dtype=int)\n",
    "randomSeed = np.genfromtxt(\"Data/\" + dataset + \"/11 IM stage results/\" + IMmethod + \"/random.csv\",dtype=int)"
   ]
  },
  {
   "cell_type": "markdown",
   "metadata": {},
   "source": [
    "### simulation paprameters"
   ]
  },
  {
   "cell_type": "code",
   "execution_count": 3,
   "metadata": {},
   "outputs": [],
   "source": [
    "# g: input graph\n",
    "# seed: input seed\n",
    "def simulation(g,adjList,seed):\n",
    "    numOfEle = np.shape(adjList)[0]\n",
    "    # an array to keep track of the number of infected at each iteration\n",
    "    infectedArray = np.zeros(numOfIters)\n",
    "\n",
    "    # arrays to keep data of each simulations\n",
    "    arrOfSus = []\n",
    "    arrOfInfAndRem = []\n",
    "    \n",
    "    for i in tqdm(range(0,numOfSims)):\n",
    "        # Model selection\n",
    "        model = ids.IndependentCascadesModel(g)\n",
    "        # Model Configuration\n",
    "        config = mc.Configuration()\n",
    "        # config.add_model_parameter\n",
    "        config.add_model_initial_configuration(\"Infected\", seed)\n",
    "        # Setting the edge parameters\n",
    "        for j in range (0,numOfEle):\n",
    "            config.add_edge_configuration(\"threshold\",(adjList[i,0],adjList[i,1]) , adjList[i,2])\n",
    "        model.set_initial_status(config)\n",
    "\n",
    "        # Simulation execution\n",
    "        for j in range(0,numOfIters):\n",
    "            iterations = model.iteration_bunch(1)\n",
    "            trends = model.build_trends(iterations)\n",
    "            numOfInfected = sum(value == 1 for value in model.status.values()) + sum(value == 2 for value in model.status.values())\n",
    "            infectedArray[j] = (infectedArray[j] * i + numOfInfected)/(i+1)\n",
    "    di = model.status\n",
    "    infected = np.array(list(filter(lambda x: di[x] in [1, 2], di)))\n",
    "    return(infected)\n",
    "#         print('------------------------------------')\n",
    "#         print(sum(value == 0 for value in model.status.values()))\n",
    "#         print(sum(value == 1 for value in model.status.values()))\n",
    "#         print(sum(value == 2 for value in model.status.values()))\n",
    "        \n"
   ]
  },
  {
   "cell_type": "markdown",
   "metadata": {},
   "source": [
    "### run simulation per graphs"
   ]
  },
  {
   "cell_type": "code",
   "execution_count": 5,
   "metadata": {},
   "outputs": [
    {
     "name": "stderr",
     "output_type": "stream",
     "text": [
      "100%|██████████| 1/1 [00:00<00:00,  2.28it/s]\n",
      "100%|██████████| 1/1 [00:00<00:00,  2.89it/s]\n",
      "100%|██████████| 1/1 [00:00<00:00,  3.27it/s]\n"
     ]
    }
   ],
   "source": [
    "augmentedInfected = simulation(augmentedGraph,augmentedAdj,augmentedSeed)\n",
    "originalInfected = simulation(originalGraph,originalAdj,originalSeed)\n",
    "randomInfected = simulation(randomGraph,randomAdj,randomSeed)"
   ]
  },
  {
   "cell_type": "code",
   "execution_count": 6,
   "metadata": {},
   "outputs": [
    {
     "data": {
      "text/plain": [
       "(396, 381)"
      ]
     },
     "execution_count": 6,
     "metadata": {},
     "output_type": "execute_result"
    }
   ],
   "source": [
    "len(set(originalInfected) and set(augmentedInfected)) , len(set(originalInfected) and set(randomInfected))"
   ]
  },
  {
   "cell_type": "code",
   "execution_count": null,
   "metadata": {},
   "outputs": [],
   "source": []
  }
 ],
 "metadata": {
  "kernelspec": {
   "display_name": "Python 3",
   "language": "python",
   "name": "python3"
  },
  "language_info": {
   "codemirror_mode": {
    "name": "ipython",
    "version": 3
   },
   "file_extension": ".py",
   "mimetype": "text/x-python",
   "name": "python",
   "nbconvert_exporter": "python",
   "pygments_lexer": "ipython3",
   "version": "3.7.0"
  }
 },
 "nbformat": 4,
 "nbformat_minor": 2
}
